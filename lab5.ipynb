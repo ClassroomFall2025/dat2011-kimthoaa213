{
 "cells": [
  {
   "cell_type": "markdown",
   "id": "fdeff819",
   "metadata": {},
   "source": [
    "# Sinh Viên thực hiện Lab 5 ở Đây"
   ]
  },
  {
   "cell_type": "markdown",
   "id": "acc5d7dc",
   "metadata": {},
   "source": [
    "## Lab 5 - Bài 1"
   ]
  },
  {
   "cell_type": "code",
   "execution_count": 14,
   "id": "001e0507",
   "metadata": {},
   "outputs": [
    {
     "name": "stdout",
     "output_type": "stream",
     "text": [
      "---------------------------------\n",
      "Tên sản phẩm: abc\n",
      "Gía sp: 100,000 VNĐ\n",
      "Giam giá: 99,000 VNĐ\n",
      "Thuế thu nhập: 10,000 VNĐ\n",
      "---------------------------------\n",
      "Tên sản phẩm: def\n",
      "Gía sp: 200,000 VNĐ\n",
      "Giam giá: 150,000 VNĐ\n",
      "Thuế thu nhập: 20,000 VNĐ\n"
     ]
    }
   ],
   "source": [
    "# Code lab 5 bài 1 ở đây\n",
    "class SanPham:\n",
    "    def __init__(self, ten_sp=\"\", gia=0, giam_gia=0):\n",
    "        self.ten_Sp = ten_sp\n",
    "        self.gia = gia\n",
    "        self.giam_gia = giam_gia\n",
    "        \n",
    "    #Tính thuê nhập khẩu ( 10% giá )\n",
    "    def tinh_thue_nhap_khau(self):\n",
    "        thue_nhap_khau = self.gia * 0.1\n",
    "        self.thue_nhap_khau = thue_nhap_khau\n",
    "        return int(thue_nhap_khau)\n",
    "   \n",
    "    def xuat_thong_tin(self) -> str:\n",
    "        print(\"---------------------------------\")\n",
    "        print(f\"Tên sản phẩm: {self.ten_Sp}\\nGía sp: {self.gia:,} VNĐ\\nGiam giá: {self.giam_gia:,} VNĐ\\nThuế thu nhập: {self.tinh_thue_nhap_khau():,} VNĐ\")\n",
    "        \n",
    "        #Hàm nhập thông tin từ bàn phím\n",
    "    def nhap_thong_tin(self):\n",
    "            print(\"Nhập thông tin sản phẩm: \")\n",
    "            self.ten_Sp = input(\"Nhập tên sản phẩm: \")\n",
    "            self.gia = int(input(\"Nhập giá sản phẩm: \")) \n",
    "            self.giam_gia = int(input(\"Nhập giảm giá: \"))\n",
    "            return self\n",
    "        \n",
    "sp1 = SanPham(\"abc\", 100000, 99000)\n",
    "sp2 = SanPham(\"def\", 200000, 150000)\n",
    "sp1.xuat_thong_tin()\n",
    "sp2.xuat_thong_tin()\n",
    "    \n",
    "        "
   ]
  },
  {
   "cell_type": "code",
   "execution_count": 4,
   "id": "8fea0740",
   "metadata": {},
   "outputs": [
    {
     "name": "stdout",
     "output_type": "stream",
     "text": [
      "Nhập thông tin sản phẩm: \n",
      "Tên sản phẩm: aaa\n",
      "Gía sp: 12.0\n",
      "Giam giá: 11.0\n",
      " Thuế thu nhập: 10.8\n"
     ]
    }
   ],
   "source": [
    "nv1 = SanPham().nhap_thong_tin()\n",
    "thue = nv1.tinh_thue_nhap_khau()\n",
    "nv1.xuat_thong_tin()\n"
   ]
  },
  {
   "cell_type": "markdown",
   "id": "c0835310",
   "metadata": {},
   "source": [
    "## Lab 5 - Bài 2"
   ]
  },
  {
   "cell_type": "code",
   "execution_count": 15,
   "id": "fa9cb39f",
   "metadata": {},
   "outputs": [
    {
     "name": "stdout",
     "output_type": "stream",
     "text": [
      "Nhập thông tin Sản Phẩm thứ 1\n",
      "-------------------\n",
      "Nhập thông tin sản phẩm: \n",
      "Nhập thông tin Sản Phẩm thứ 2\n",
      "-------------------\n",
      "Nhập thông tin sản phẩm: \n",
      "---------------------------------\n",
      "Tên sản phẩm: OMO\n",
      "Gía sp: 29,000 VNĐ\n",
      "Giam giá: 25,000 VNĐ\n",
      "Thuế thu nhập: 2,900 VNĐ\n",
      "---------------------------------\n",
      "Tên sản phẩm: AQUAFINA\n",
      "Gía sp: 800 VNĐ\n",
      "Giam giá: 5,000 VNĐ\n",
      "Thuế thu nhập: 80 VNĐ\n"
     ]
    }
   ],
   "source": [
    "# Code lab 5  bài 2 ở đây\n",
    "ds_sanpham = []\n",
    "#hàm nhập theo for\n",
    "for i in range(2):\n",
    "    print(f\"Nhập thông tin Sản Phẩm thứ {i+1}\")\n",
    "    print(\"-------------------\")\n",
    "    sp = SanPham().nhap_thong_tin()\n",
    "    ds_sanpham.append(sp)\n",
    "\n",
    "for sp in ds_sanpham:\n",
    "    sp.xuat_thong_tin()"
   ]
  },
  {
   "cell_type": "markdown",
   "id": "0f2483fe",
   "metadata": {},
   "source": [
    "## Lab 5 - Bài 3"
   ]
  },
  {
   "cell_type": "code",
   "execution_count": 12,
   "id": "7034990b",
   "metadata": {},
   "outputs": [
    {
     "name": "stdout",
     "output_type": "stream",
     "text": [
      "Nhập thông tin Sản Phẩm thứ 1\n",
      "-------------------\n",
      "Nhập thông tin sản phẩm: \n",
      "Nhập thông tin Sản Phẩm thứ 2\n",
      "-------------------\n",
      "Nhập thông tin sản phẩm: \n",
      "------------------------------\n",
      "Thông tin sản phẩm thứ 1: \n",
      "Tên sản phẩm: OMO\n",
      "Gía sp: 29,000 VNĐ\n",
      "Giam giá: 25,000 VNĐ\n",
      "Thuế thu nhập: 2,900 VNĐ\n",
      "------------------------------\n",
      "Thông tin sản phẩm thứ 2: \n",
      "Tên sản phẩm: AQUA\n",
      "Gía sp: 9,000 VNĐ\n",
      "Giam giá: 5,000 VNĐ\n",
      "Thuế thu nhập: 900 VNĐ\n"
     ]
    }
   ],
   "source": [
    "# Code lab 5  bài 3 ở đây\n",
    "class SanPham:\n",
    "    def __init__(self, ten_sp=\"\", gia=0, giam_gia=0):\n",
    "        self.__ten_Sp = ten_sp\n",
    "        self.__gia = gia\n",
    "        self.__giam_gia = giam_gia\n",
    "        \n",
    "    #Tính thuê nhập khẩu ( 10% giá )\n",
    "    def tinh_thue_nhap_khau(self):\n",
    "        thue_nhap_khau = self.get_gia() * 0.1\n",
    "        self.thue_nhap_khau = thue_nhap_khau\n",
    "        return int(thue_nhap_khau)\n",
    "   \n",
    "    def nhap_thong_tin(self):\n",
    "        print(\"Nhập thông tin sản phẩm: \")\n",
    "        self.set_ten(input(\"Nhập tên sản phẩm: \"))\n",
    "        self.set_gia(int(input(\"Nhập giá sản phẩm: \")) )\n",
    "        self.set_giam_gia(int(input(\"Nhập giảm giá: \")))\n",
    "        return self\n",
    "    def xuat_thong_tin(self) -> str:\n",
    "         print(f\"Tên sản phẩm: {self.get_ten_Sp()}\\nGía sp: {self.get_gia():,} VNĐ\\nGiam giá: {self.get_giamgia():,} VNĐ\\nThuế thu nhập: {self.tinh_thue_nhap_khau():,} VNĐ\")\n",
    "    \n",
    "    # Lấy thuộc tính\n",
    "    def get_ten_Sp(self):\n",
    "        return self.__ten_Sp\n",
    "    def get_gia(self):\n",
    "        return self.__gia\n",
    "    def get_giamgia(self):\n",
    "        return self.__giam_gia\n",
    "    # Gán giá trị \n",
    "    def set_ten(self,_ten_sp):\n",
    "        self.__ten_Sp = _ten_sp\n",
    "    def set_gia(self,_gia):\n",
    "        self.__gia = _gia\n",
    "    def set_giam_gia(self,_giam_gia):\n",
    "        self.__giam_gia = _giam_gia\n",
    "        \n",
    "#Nhập thông tin\n",
    "lst_sanpham= []\n",
    "\n",
    "for i in range(2):\n",
    "    print(f\"Nhập thông tin Sản Phẩm thứ {i+1}\")\n",
    "    print(\"-------------------\")\n",
    "    lst_sanpham.append(SanPham().nhap_thong_tin())\n",
    "    \n",
    "for sanpham in lst_sanpham:\n",
    "    print(30*\"-\")\n",
    "    print(f\"Thông tin sản phẩm thứ {lst_sanpham.index(sanpham)+1}: \")\n",
    "    sanpham.xuat_thong_tin()"
   ]
  },
  {
   "cell_type": "markdown",
   "id": "d36ea3d3",
   "metadata": {},
   "source": [
    "## Lab 5 - Bài 4"
   ]
  },
  {
   "cell_type": "code",
   "execution_count": null,
   "id": "4c707ec1",
   "metadata": {},
   "outputs": [],
   "source": [
    "# code lab 5 bài 4 ở đây\n",
    "\n",
    "class SanPham:\n",
    "    def __init__(self, ten_sp=\"\", gia=0, giam_gia=0):\n",
    "        self.__ten_Sp = ten_sp\n",
    "        self.__gia = gia\n",
    "        self.__giam_gia = giam_gia\n",
    "        \n",
    "    #Tính thuê nhập khẩu ( 10% giá )\n",
    "    def tinh_thue_nhap_khau(self):\n",
    "        thue_nhap_khau = self.get_gia() * 0.1\n",
    "        self.thue_nhap_khau = thue_nhap_khau\n",
    "        return int(thue_nhap_khau)\n",
    "   \n",
    "    def nhap_thong_tin(self):\n",
    "        print(\"Nhập thông tin sản phẩm: \")\n",
    "        self.set_ten(input(\"Nhập tên sản phẩm: \"))\n",
    "        self.set_gia(int(input(\"Nhập giá sản phẩm: \")) )\n",
    "        self.set_giam_gia(int(input(\"Nhập giảm giá: \")))\n",
    "        return self\n",
    "    def xuat_thong_tin(self) -> str:\n",
    "         print(f\"Tên sản phẩm: {self.get_ten_Sp()}\\nGía sp: {self.get_gia():,} VNĐ\\nGiam giá: {self.get_giamgia():,} VNĐ\\nThuế thu nhập: {self.tinh_thue_nhap_khau():,} VNĐ\")\n",
    "    \n",
    "    # Lấy thuộc tính\n",
    "    def get_ten_Sp(self):\n",
    "        return self.__ten_Sp\n",
    "    def get_gia(self):\n",
    "        return self.__gia\n",
    "    def get_giamgia(self):\n",
    "        return self.__giam_gia\n",
    "    # Gán giá trị \n",
    "    def set_ten(self,_ten_sp):\n",
    "        self.__ten_Sp = _ten_sp\n",
    "    def set_gia(self,_gia):\n",
    "        self.__gia = _gia\n",
    "    def set_giam_gia(self,_giam_gia):\n",
    "        self.__giam_gia = _giam_gia\n",
    "        \n",
    "#Nhập thông tin\n",
    "lst_sanpham= []\n",
    "\n",
    "for i in range(2):\n",
    "    print(f\"Nhập thông tin Sản Phẩm thứ {i+1}\")\n",
    "    print(\"-------------------\")\n",
    "    lst_sanpham.append(SanPham().nhap_thong_tin())\n",
    "    \n",
    "for sanpham in lst_sanpham:\n",
    "    print(30*\"-\")\n",
    "    print(f\"Thông tin sản phẩm thứ {lst_sanpham.index(sanpham)+1}: \")\n",
    "    sanpham.xuat_thong_tin()"
   ]
  },
  {
   "cell_type": "markdown",
   "id": "e2b41d4a",
   "metadata": {},
   "source": [
    "## Lab 5 - Bài 5: bài tập làm thêm"
   ]
  },
  {
   "cell_type": "code",
   "execution_count": null,
   "id": "0e0172f7",
   "metadata": {},
   "outputs": [],
   "source": [
    "# code lab 5  bài làm thêm ở đây "
   ]
  }
 ],
 "metadata": {
  "kernelspec": {
   "display_name": "Python 3",
   "language": "python",
   "name": "python3"
  },
  "language_info": {
   "codemirror_mode": {
    "name": "ipython",
    "version": 3
   },
   "file_extension": ".py",
   "mimetype": "text/x-python",
   "name": "python",
   "nbconvert_exporter": "python",
   "pygments_lexer": "ipython3",
   "version": "3.13.7"
  }
 },
 "nbformat": 4,
 "nbformat_minor": 5
}
