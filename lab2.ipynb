{
 "cells": [
  {
   "cell_type": "markdown",
   "id": "fdeff819",
   "metadata": {},
   "source": [
    "# Sinh Viên thực hiện Lab 2 ở Đây"
   ]
  },
  {
   "cell_type": "markdown",
   "id": "acc5d7dc",
   "metadata": {},
   "source": [
    "## Lab 2 - Bài 1"
   ]
  },
  {
   "cell_type": "code",
   "execution_count": 10,
   "id": "001e0507",
   "metadata": {},
   "outputs": [
    {
     "name": "stdout",
     "output_type": "stream",
     "text": [
      "Có từ \"con người\" trong đoạn thơ\n",
      "6\n",
      "con người\n",
      "\n",
      "Kiếp CON NGƯỜI mong manh như là gió  \n",
      "Sống trên đời có được mấy lần vui  \n",
      "Sao phải đau mà không thể mỉm cười  \n",
      "Gắng buông nỗi ngậm ngùi nơi quá khứ\n",
      "\n",
      "Nếu có thể sao ta không làm thử  \n",
      "Để tâm hồn khắc hai chữ bình an  \n",
      "Cho đôi chân bước thanh thản nhẹ nhàng  \n",
      "Dù hướng đời có muôn ngàn đá sỏi \n"
     ]
    }
   ],
   "source": [
    "# Code lab 2 bài 1 ở đây\n",
    "tho = \"\"\"\n",
    "Kiếp con người mong manh như là gió  \n",
    "Sống trên đời có được mấy lần vui  \n",
    "Sao phải đau mà không thể mỉm cười  \n",
    "Gắng buông nỗi ngậm ngùi nơi quá khứ\\n\n",
    "Nếu có thể sao ta không làm thử  \n",
    "Để tâm hồn khắc hai chữ bình an  \n",
    "Cho đôi chân bước thanh thản nhẹ nhàng  \n",
    "Dù hướng đời có muôn ngàn đá sỏi \"\"\"\n",
    "#Kiểm tra từ \"con người\" có trong đoạn thơ không\n",
    "kiemtra_text = \"con người\" in tho\n",
    "if kiemtra_text:\n",
    "    print(\"Có từ \\\"con người\\\" trong đoạn thơ\")\n",
    "else:\n",
    "    print(\"Không có từ \\\"con người\\\" trong đoạn thơ\")\n",
    "#Lấy \"Con người\" từ đoạn thơ ra\n",
    "trich_chuoi = tho.find(\"con người\")\n",
    "print(trich_chuoi)\n",
    "print(tho[trich_chuoi:len(\"con người\")+trich_chuoi])\n",
    "\n",
    "#In hoa \"con người\" \n",
    "Tho_1 = tho.replace(\"con người\", \"con người\".upper())\n",
    "print(Tho_1)\n"
   ]
  },
  {
   "cell_type": "markdown",
   "id": "c0835310",
   "metadata": {},
   "source": [
    "## Lab 2 - Bài 2"
   ]
  },
  {
   "cell_type": "code",
   "execution_count": null,
   "id": "fa9cb39f",
   "metadata": {},
   "outputs": [
    {
     "name": "stdout",
     "output_type": "stream",
     "text": [
      "\"...\n",
      "Kiếp con người mong manh như là gió  \n",
      "Sống trên đời có được mấy lần vui  \n",
      "Sao phải đau mà không thể mỉm cười  \n",
      "Gắng buông nỗi ngậm ngùi nơi quá khứ\n",
      "\n",
      "Nếu có thể sao ta không làm thử  \n",
      "Để tâm hồn khắc hai chữ hạnh phúc  \n",
      "Cho đôi chân bước thanh thản nhẹ nhàng  \n",
      "Dù hướng đời có muôn ngàn đá sỏi \n",
      "...\"\n"
     ]
    }
   ],
   "source": [
    "# Code lab 2  bài 2 ở đây\n",
    "#thay thế chuỗi\n",
    "tho1 = tho.replace(\"bình an\",\"hạnh phúc\")\n",
    "# print(tho1)\n",
    "#thêm kí tự đầu và cuối chuỗi\n",
    "tho2 = \"\\\"...\" + tho1 + \"\\n...\\\"\"\n",
    "print(tho2)"
   ]
  },
  {
   "cell_type": "markdown",
   "id": "0f2483fe",
   "metadata": {},
   "source": [
    "## Lab 2 - Bài 3"
   ]
  },
  {
   "cell_type": "code",
   "execution_count": 1,
   "id": "7034990b",
   "metadata": {},
   "outputs": [
    {
     "name": "stdout",
     "output_type": "stream",
     "text": [
      "Phương trình 1x + 3 = 0 có nghiệm là: -3.0\n"
     ]
    }
   ],
   "source": [
    "# Code lab 2  bài 3 ở đây\n",
    "heso_a = int(input(\"Nhập hệ số a: \"))\n",
    "heso_b = int(input(\"Nhập hệ số b: \"))\n",
    "\n",
    "if heso_a == 0:\n",
    "    if heso_b== 0 :\n",
    "        print(\"Vô số nghiệm\")\n",
    "    else:\n",
    "        print(\"Vô nghiệm\")\n",
    "else:\n",
    "    x =-heso_b/heso_a\n",
    "    print(f\"Phương trình {heso_a}x + {heso_b} = 0 có nghiệm là: {x}\")"
   ]
  },
  {
   "cell_type": "markdown",
   "id": "d36ea3d3",
   "metadata": {},
   "source": [
    "## Lab 2 - Bài 4"
   ]
  },
  {
   "cell_type": "code",
   "execution_count": 5,
   "id": "4c707ec1",
   "metadata": {},
   "outputs": [
    {
     "name": "stdout",
     "output_type": "stream",
     "text": [
      "Phương trình có 2 nghiệm phân biệt:\n",
      " x1:-1.000\n",
      " x2:1.000\n"
     ]
    }
   ],
   "source": [
    "# code lab 2 bài 4 ở đây\n",
    "import math as m\n",
    "heso_a = int(input('Nhập hệ số a: '))\n",
    "heso_b = int(input('Nhập hệ số b: '))\n",
    "heso_c = int(input('Nhập hệ số c: '))\n",
    "\n",
    "#xét a\n",
    "if heso_a == 0 : #bx+c = 0\n",
    "    if heso_b == 0:\n",
    "        if heso_c == 0 :\n",
    "            print(\"Vô số nghiệm\")\n",
    "        else:\n",
    "            print(\"Vô nghiệm\")\n",
    "    else:\n",
    "        x =-heso_c/heso_b\n",
    "        print(f\"Phương trình {heso_b}x + {heso_c} = 0 có nghiệm là: {x}\")\n",
    "else:\n",
    "    delta = heso_b * heso_b - 4 * heso_a * heso_c\n",
    "    if delta < 0:\n",
    "        print(\"Phương trình vô nghiệm\")\n",
    "    elif delta == 0:\n",
    "        x = -heso_b/(2*heso_a)\n",
    "        print(f\"Phương trình có nghiệm kép: {x}\")\n",
    "    else:\n",
    "        x1 = (-heso_b+m.sqrt(delta))/(2*heso_a)\n",
    "        x2 = (-heso_b-m.sqrt(delta))/(2*heso_a)\n",
    "        print(f\"Phương trình có 2 nghiệm phân biệt:\\n x1:{x1:.3f}\\n x2:{x2:.3f}\")"
   ]
  },
  {
   "cell_type": "markdown",
   "id": "e2b41d4a",
   "metadata": {},
   "source": [
    "## Lab 2 - Bài 5: bài tập làm thêm"
   ]
  },
  {
   "cell_type": "code",
   "execution_count": null,
   "id": "0e0172f7",
   "metadata": {},
   "outputs": [
    {
     "name": "stdout",
     "output_type": "stream",
     "text": [
      "Tổng 2 số:3.0+6.0 = 9.0\n",
      "Số lớn nhất trong 2 số là: 6.0\n",
      "Số lớn nhất trong 2 số là: 6.0\n",
      "3.0 6.0 8.0\n",
      "Số lớn nhất trong 3 số là: 8.0\n"
     ]
    }
   ],
   "source": [
    "# code lab 2  bài làm thêm ở đây \n",
    "import math as m\n",
    "#Nhập vào 2 số tính tổng hiệu tích thương, logarit, lũy thừa, căn bậc 2, hàm lượng giác(sin, cos, tan)\n",
    "so_1 = float(input(\"Nhập số thứ nhất: \"))\n",
    "so_2 = float(input(\"Nhập số thứ hai: \"))\n",
    "toan_tu = input(\"Nhập phép toán (+, -, *, /, logarit, lũy thừa, căn bậc 2, sin, cos, tan): \")\n",
    "\n",
    "#Tính tổng, hiệu, tích, thương\n",
    "if toan_tu == \"+\":\n",
    "    tong = so_1 + so_2\n",
    "    print(f\"Tổng 2 số:{so_1}+{so_2} = {tong}\")\n",
    "elif toan_tu == \"-\":\n",
    "    hieu = so_1 - so_2\n",
    "    print(f\"Hiệu 2 số:{so_1}-{so_2} = {hieu}\")\n",
    "elif toan_tu == \"*\":\n",
    "    tich = so_1 * so_2\n",
    "    print(f\"Tích 2 số:{so_1}*{so_2} = {tich}\")\n",
    "elif toan_tu == \"/\":\n",
    "    if so_2 != 0:\n",
    "        thuong = so_1 / so_2\n",
    "        print(f\"Thương 2 số:{so_1}/{so_2} = {thuong}\")\n",
    "    else:\n",
    "        print(\"Lỗi: Không thể chia cho 0\")\n",
    "#Logarit\n",
    "elif toan_tu == \"logarit\":\n",
    "    if so_1!=0 and so_2>0 and so_2!=1:\n",
    "         logarit = m.log(so_1, so_2)\n",
    "         print(f\"Logarit {so_1} cơ số {so_2} = {logarit:.3f}\")\n",
    "    else:\n",
    "        print(\"Lỗi: Điều kiện logarit không thỏa\")\n",
    "#Lũy thừa\n",
    "elif toan_tu == \"lũy thừa\":\n",
    "    if so_1 != 0 or so_2 > 0:\n",
    "        luythua = m.pow(so_1, so_2)\n",
    "        print(f\"Lũy thừa {so_1}^{so_2} = {luythua}\")\n",
    "    else:\n",
    "        print(\"Lỗi: Điều kiện lũy thừa không thỏa\")\n",
    "#Căn bậc 2\n",
    "elif toan_tu == \"căn bậc 2\":\n",
    "    if so_1 >= 0:\n",
    "        can_bac2 = m.sqrt(so_1)\n",
    "        print(f\"Căn bậc 2 của {so_1} = {can_bac2:.3f}\")\n",
    "    else:\n",
    "        print(\"Lỗi: Không thể tính căn bậc 2 của số âm\")\n",
    "#Hàm lượng giác\n",
    "elif toan_tu == \"sin\":\n",
    "    sin = m.sin(m.radians(so_1))\n",
    "    print(f\"Sin {so_1} = {sin:.3f}\")\n",
    "elif toan_tu == \"cos\":\n",
    "    cos = m.cos(m.radians(so_1))\n",
    "    print(f\"Cos {so_1} = {cos:.3f}\")\n",
    "elif toan_tu == \"tan\": \n",
    "    tan = m.tan(m.radians(so_1))\n",
    "    print(f\"Tan {so_1} = {tan:.3f}\")\n",
    "#Phép toán không hợp lệ\n",
    "else:\n",
    "    print(\"Lỗi: Phép toán không hợp lệ\")\n",
    "    \n",
    "#tìm số lớn nhất trong 2 số\n",
    "if so_1 > so_2:\n",
    "    print(f\"Số lớn nhất trong 2 số là: {so_1}\")\n",
    "else:\n",
    "    print(f\"Số lớn nhất trong 2 số là: {so_2}\")\n",
    "\n",
    "print(f\"Số lớn nhất trong 2 số là: {so_1 if so_1 > so_2 else so_2}\")\n",
    "\n",
    "#cho 3 số tìm số lớn nhất\n",
    "so_3 = float(input(\"Nhập số thứ ba: \"))\n",
    "print(so_1, so_2, so_3)\n",
    "max = so_1 if (so_1 >= so_2 and so_1>=so_3) else(so_2 if( so_2 >= so_3 and so_2>=so_1) else so_3)\n",
    "print(f\"Số lớn nhất trong 3 số là: {max}\")"
   ]
  },
  {
   "cell_type": "code",
   "execution_count": null,
   "id": "34608c16",
   "metadata": {},
   "outputs": [],
   "source": []
  }
 ],
 "metadata": {
  "kernelspec": {
   "display_name": "Python 3",
   "language": "python",
   "name": "python3"
  },
  "language_info": {
   "codemirror_mode": {
    "name": "ipython",
    "version": 3
   },
   "file_extension": ".py",
   "mimetype": "text/x-python",
   "name": "python",
   "nbconvert_exporter": "python",
   "pygments_lexer": "ipython3",
   "version": "3.13.7"
  }
 },
 "nbformat": 4,
 "nbformat_minor": 5
}
