{
 "cells": [
  {
   "cell_type": "markdown",
   "id": "fdeff819",
   "metadata": {},
   "source": [
    "# Sinh Viên thực hiện Lab 2 ở Đây"
   ]
  },
  {
   "cell_type": "markdown",
   "id": "acc5d7dc",
   "metadata": {},
   "source": [
    "## Lab 2 - Bài 1"
   ]
  },
  {
   "cell_type": "code",
   "execution_count": 10,
   "id": "001e0507",
   "metadata": {},
   "outputs": [
    {
     "name": "stdout",
     "output_type": "stream",
     "text": [
      "Có từ \"con người\" trong đoạn thơ\n",
      "6\n",
      "con người\n",
      "\n",
      "Kiếp CON NGƯỜI mong manh như là gió  \n",
      "Sống trên đời có được mấy lần vui  \n",
      "Sao phải đau mà không thể mỉm cười  \n",
      "Gắng buông nỗi ngậm ngùi nơi quá khứ\n",
      "\n",
      "Nếu có thể sao ta không làm thử  \n",
      "Để tâm hồn khắc hai chữ bình an  \n",
      "Cho đôi chân bước thanh thản nhẹ nhàng  \n",
      "Dù hướng đời có muôn ngàn đá sỏi \n"
     ]
    }
   ],
   "source": [
    "# Code lab 2 bài 1 ở đây\n",
    "tho = \"\"\"\n",
    "Kiếp con người mong manh như là gió  \n",
    "Sống trên đời có được mấy lần vui  \n",
    "Sao phải đau mà không thể mỉm cười  \n",
    "Gắng buông nỗi ngậm ngùi nơi quá khứ\\n\n",
    "Nếu có thể sao ta không làm thử  \n",
    "Để tâm hồn khắc hai chữ bình an  \n",
    "Cho đôi chân bước thanh thản nhẹ nhàng  \n",
    "Dù hướng đời có muôn ngàn đá sỏi \"\"\"\n",
    "#Kiểm tra từ \"con người\" có trong đoạn thơ không\n",
    "kiemtra_text = \"con người\" in tho\n",
    "if kiemtra_text:\n",
    "    print(\"Có từ \\\"con người\\\" trong đoạn thơ\")\n",
    "else:\n",
    "    print(\"Không có từ \\\"con người\\\" trong đoạn thơ\")\n",
    "#Lấy \"Con người\" từ đoạn thơ ra\n",
    "trich_chuoi = tho.find(\"con người\")\n",
    "print(trich_chuoi)\n",
    "print(tho[trich_chuoi:len(\"con người\")+trich_chuoi])\n",
    "\n",
    "#In hoa \"con người\" \n",
    "Tho_1 = tho.replace(\"con người\", \"con người\".upper())\n",
    "print(Tho_1)\n"
   ]
  },
  {
   "cell_type": "markdown",
   "id": "c0835310",
   "metadata": {},
   "source": [
    "## Lab 2 - Bài 2"
   ]
  },
  {
   "cell_type": "code",
   "execution_count": null,
   "id": "fa9cb39f",
   "metadata": {},
   "outputs": [
    {
     "name": "stdout",
     "output_type": "stream",
     "text": [
      "\"...\n",
      "Kiếp con người mong manh như là gió  \n",
      "Sống trên đời có được mấy lần vui  \n",
      "Sao phải đau mà không thể mỉm cười  \n",
      "Gắng buông nỗi ngậm ngùi nơi quá khứ\n",
      "\n",
      "Nếu có thể sao ta không làm thử  \n",
      "Để tâm hồn khắc hai chữ hạnh phúc  \n",
      "Cho đôi chân bước thanh thản nhẹ nhàng  \n",
      "Dù hướng đời có muôn ngàn đá sỏi \n",
      "...\"\n"
     ]
    }
   ],
   "source": [
    "# Code lab 2  bài 2 ở đây\n",
    "#thay thế chuỗi\n",
    "tho1 = tho.replace(\"bình an\",\"hạnh phúc\")\n",
    "# print(tho1)\n",
    "#thêm kí tự đầu và cuối chuỗi\n",
    "tho2 = \"\\\"...\" + tho1 + \"\\n...\\\"\"\n",
    "print(tho2)"
   ]
  },
  {
   "cell_type": "markdown",
   "id": "0f2483fe",
   "metadata": {},
   "source": [
    "## Lab 2 - Bài 3"
   ]
  },
  {
   "cell_type": "code",
   "execution_count": null,
   "id": "7034990b",
   "metadata": {},
   "outputs": [],
   "source": [
    "# Code lab 2  bài 3 ở đây\n",
    "heso_a = int(input(\"Nhập hệ số a: \"))\n",
    "heso_b = int(input(\"Nhập hệ số b: \"))\n",
    "\n",
    "if heso_a == 0:\n",
    "    if heso_b== 0 :\n",
    "        print(\"Vô số nghiệm\")\n",
    "    else:\n",
    "        print(\"Vô nghiệm\")\n",
    "else:\n",
    "    x =-heso_b/heso_a\n",
    "    print(f\"Phương trình {heso_a}x + {heso_b} = 0 có nghiệm là: {x}\")"
   ]
  },
  {
   "cell_type": "markdown",
   "id": "d36ea3d3",
   "metadata": {},
   "source": [
    "## Lab 2 - Bài 4"
   ]
  },
  {
   "cell_type": "code",
   "execution_count": null,
   "id": "4c707ec1",
   "metadata": {},
   "outputs": [],
   "source": [
    "# code lab 2 bài 4 ở đây\n",
    "heso_a = int(input('Nhập hệ số a: '))\n",
    "heso_b = int(input('Nhập hệ số b: '))\n",
    "heso_c = int(input('Nhập hệ số c: '))\n",
    "\n",
    "#xét a\n",
    "if heso_a == 0 : #bx+c = 0\n",
    "    if heso_b == 0:\n",
    "        if heso_c == 0 :\n",
    "            print(\"Vô số nghiệm\")\n",
    "        else:\n",
    "            print(\"Vô nghiệm\")\n",
    "    else:\n",
    "        x =-heso_c/heso_b\n",
    "        print(f\"Phương trình {heso_b}x + {heso_c} = 0 có nghiệm là: {x}\")\n",
    "else:\n",
    "    \n",
    "    delta = heso_b * heso_b - 4 * heso_a * heso_c\n",
    "    if delta < 0:\n",
    "        print(\"Phương trình vô nghiệm\")\n",
    "    elif delta == 0:\n",
    "        x = -heso_b/(2*heso_a)\n",
    "        print(f\"Phương trình có nghiệm kép: {x}\")\n",
    "    else:\n",
    "        x1 = (-heso_b+m.sqrt(delta))/(2*heso_a)\n",
    "        x2 = (-heso_b-m.sqrt(delta))/(2*heso_a)\n",
    "        print(f\"Phương trình có 2 nghiệm phân biệt:\\n x1:{x1:.3f}\\n x2:{x2:.3f}\")"
   ]
  },
  {
   "cell_type": "markdown",
   "id": "e2b41d4a",
   "metadata": {},
   "source": [
    "## Lab 2 - Bài 5: bài tập làm thêm"
   ]
  },
  {
   "cell_type": "code",
   "execution_count": null,
   "id": "0e0172f7",
   "metadata": {},
   "outputs": [],
   "source": [
    "# code lab 2  bài làm thêm ở đây \n"
   ]
  }
 ],
 "metadata": {
  "kernelspec": {
   "display_name": "Python 3",
   "language": "python",
   "name": "python3"
  },
  "language_info": {
   "codemirror_mode": {
    "name": "ipython",
    "version": 3
   },
   "file_extension": ".py",
   "mimetype": "text/x-python",
   "name": "python",
   "nbconvert_exporter": "python",
   "pygments_lexer": "ipython3",
   "version": "3.13.7"
  }
 },
 "nbformat": 4,
 "nbformat_minor": 5
}
