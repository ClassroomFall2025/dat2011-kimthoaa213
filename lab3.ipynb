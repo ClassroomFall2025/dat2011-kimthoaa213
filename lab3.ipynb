{
 "cells": [
  {
   "cell_type": "markdown",
   "id": "fdeff819",
   "metadata": {},
   "source": [
    "# Sinh Viên thực hiện Lab 3 ở Đây"
   ]
  },
  {
   "cell_type": "markdown",
   "id": "acc5d7dc",
   "metadata": {},
   "source": [
    "## Lab 3 - Bài 1"
   ]
  },
  {
   "cell_type": "code",
   "execution_count": null,
   "id": "001e0507",
   "metadata": {},
   "outputs": [],
   "source": [
    "# Code lab 3 bài 1 ở đây\n",
    "numbers = []\n",
    "#số lượng phần tử trong dãy\n",
    "n = int(input(\"Nhập số lượng phần tử trong dãy: \"))\n",
    "#Nhập các phần tử trong dãy\n",
    "for i in range(n):\n",
    "    num = int(input(f\"Nhập phần tử thứ {i+1}: \"))\n",
    "    numbers.append(num)\n",
    "# Sắp xếp dãy số theo thứ tự tăng dần\n",
    "for i in range(n):\n",
    "    for j in range(i+1, n):\n",
    "        if numbers[i] > numbers[j]:\n",
    "            numbers[i], numbers[j] = numbers[j], numbers[i]\n",
    "#hoặc dùng hàm sort\n",
    "# numbers.sort()\n",
    "print(numbers)\n",
    "\n",
    "#Tính và xuất ra màn hình trung bình cộng các phần tử chia hết cho 3\n",
    "tong = 0\n",
    "dem = 0\n",
    "for num in numbers:\n",
    "    if num % 3 ==0:\n",
    "        tong += num\n",
    "        dem += 1\n",
    "if dem !=0:\n",
    "    avg = tong/ dem\n",
    "    print(\"Số phần tử chia hết cho 3:\",dem)\n",
    "    print(f\"Trung bình cộng các phần tử chia hết cho 3: {avg}\")\n",
    "    \n",
    "#Thay đổi sắp xếp theo thứ tự giảm dần, khi đó phần tử nhỏ nhất trong danh sách sẽ là phần tử thứ mấy? \n",
    "for i in range(n):\n",
    "    for j in range(i+1, n):\n",
    "        if numbers[i] < numbers[j]:\n",
    "            numbers[i], numbers[j] = numbers[j], numbers[i]\n",
    "print(numbers)\n",
    "print(f\"Phần tử nhỏ nhất trong dãy là {numbers[n-1]}, nằm ở vị trí {n}\")"
   ]
  },
  {
   "cell_type": "markdown",
   "id": "c0835310",
   "metadata": {},
   "source": [
    "## Lab 3 - Bài 2"
   ]
  },
  {
   "cell_type": "code",
   "execution_count": 22,
   "id": "fa9cb39f",
   "metadata": {},
   "outputs": [
    {
     "name": "stdout",
     "output_type": "stream",
     "text": [
      "========Danh sách sinh viên======\n",
      "*Sinh viên thứ 1:\n",
      "Họ và tên: Thoa\n",
      "Điểm: 9.0\n",
      "Xếp loại: Xuất sắc\n",
      "-------------------\n",
      "*Sinh viên thứ 2:\n",
      "Họ và tên: Hope\n",
      "Điểm: 8.0\n",
      "Xếp loại: Gioi\n",
      "-------------------\n"
     ]
    }
   ],
   "source": [
    "# Code lab 3  bài 2 ở đây\n",
    "#tạo 1 list rỗng để lưu danh sách sinh viên\n",
    "list_sinhvien = []\n",
    "#nhập số sinh viên\n",
    "n = int(input(\"Nhập số sinh viên: \"))\n",
    "#nhập thông tin sinh viên\n",
    "for i in range(n):\n",
    "    name = input(f\"Nhập họ tên sinh viên {i+1}: \")\n",
    "    score = float(input(f\"Nhập điểm sinh viên {i+1}: \"))\n",
    "    #tạo dict để lưu thông tin sinh viên\n",
    "    sinh_vien = {\n",
    "        \"Họ và tên\": name,\n",
    "        \"Điểm\" : score\n",
    "    } \n",
    "    #thêm dict vào list sinh viên\n",
    "    list_sinhvien.append(sinh_vien)\n",
    "\n",
    "# for sv in list_sinhvien:\n",
    "#     print(sv)\n",
    "    #xếp loại sinh viên và lưu vào dict\n",
    "    if score <5:\n",
    "        sinh_vien.update({\"Xếp loại\": \"Yếu\"})\n",
    "    elif 5<= score <7:\n",
    "        sinh_vien.update({\"Xếp loại\": \"Trung bình\"})\n",
    "    elif 7 <= score <8:\n",
    "        sinh_vien.update({\"Xếp loại\": \"Khá\"})\n",
    "    elif 8<= score < 9:\n",
    "        sinh_vien.update({\"Xếp loại\": \"Gioi\"})\n",
    "    else:\n",
    "        sinh_vien.update({\"Xếp loại\": \"Xuất sắc\"})\n",
    "    #in thông tin sinh viên\n",
    "print(\"========Danh sách sinh viên======\")\n",
    "for sv in list_sinhvien:\n",
    "    print(f\"*Sinh viên thứ {list_sinhvien.index(sv)+1}:\")\n",
    "    for key, value in sv.items():\n",
    "        print(f\"{key}: {value}\")\n",
    "    print(\"-------------------\")"
   ]
  },
  {
   "cell_type": "markdown",
   "id": "0f2483fe",
   "metadata": {},
   "source": [
    "## Lab 3 - Bài 3"
   ]
  },
  {
   "cell_type": "code",
   "execution_count": null,
   "id": "7034990b",
   "metadata": {},
   "outputs": [
    {
     "name": "stdout",
     "output_type": "stream",
     "text": [
      "True\n",
      "2 là số nguyên tố\n"
     ]
    }
   ],
   "source": [
    "# Code lab 3  bài 3 ở đây\n",
    "#nhập vào 1 số nguyên\n",
    "num = int(input(\"Nhập vào 1 số nguyên: \"))\n",
    "i=2\n",
    "ok = True\n",
    "while i <(num-1):#kiểm tra từ 2 đến num-1\n",
    "    if num % i == 0:\n",
    "        ok = False\n",
    "        break\n",
    "    i+=1\n",
    "#in kết quả\n",
    "print(ok)\n",
    "if ok:\n",
    "    print(f\"{num} là số nguyên tố\") \n",
    "else:\n",
    "    print(f\"{num} không phải số nguyên tố\")"
   ]
  },
  {
   "cell_type": "markdown",
   "id": "d36ea3d3",
   "metadata": {},
   "source": [
    "## Lab 3 - Bài 4"
   ]
  },
  {
   "cell_type": "code",
   "execution_count": 14,
   "id": "4c707ec1",
   "metadata": {},
   "outputs": [
    {
     "name": "stdout",
     "output_type": "stream",
     "text": [
      "==========Bảng cửu chương 6 ==========\n",
      "6 x 0 = 0\n",
      "6 x 1 = 6\n",
      "6 x 2 = 12\n",
      "6 x 3 = 18\n",
      "6 x 4 = 24\n",
      "6 x 5 = 30\n",
      "6 x 6 = 36\n",
      "6 x 7 = 42\n",
      "6 x 8 = 48\n",
      "6 x 9 = 54\n",
      "==========Bảng cửu chương từ 1 đến 9 ==========\n",
      "1 x 1 = 1\t2 x 1 = 2\t3 x 1 = 3\t4 x 1 = 4\t5 x 1 = 5\t6 x 1 = 6\t7 x 1 = 7\t8 x 1 = 8\t9 x 1 = 9\t\n",
      "1 x 2 = 2\t2 x 2 = 4\t3 x 2 = 6\t4 x 2 = 8\t5 x 2 = 10\t6 x 2 = 12\t7 x 2 = 14\t8 x 2 = 16\t9 x 2 = 18\t\n",
      "1 x 3 = 3\t2 x 3 = 6\t3 x 3 = 9\t4 x 3 = 12\t5 x 3 = 15\t6 x 3 = 18\t7 x 3 = 21\t8 x 3 = 24\t9 x 3 = 27\t\n",
      "1 x 4 = 4\t2 x 4 = 8\t3 x 4 = 12\t4 x 4 = 16\t5 x 4 = 20\t6 x 4 = 24\t7 x 4 = 28\t8 x 4 = 32\t9 x 4 = 36\t\n",
      "1 x 5 = 5\t2 x 5 = 10\t3 x 5 = 15\t4 x 5 = 20\t5 x 5 = 25\t6 x 5 = 30\t7 x 5 = 35\t8 x 5 = 40\t9 x 5 = 45\t\n",
      "1 x 6 = 6\t2 x 6 = 12\t3 x 6 = 18\t4 x 6 = 24\t5 x 6 = 30\t6 x 6 = 36\t7 x 6 = 42\t8 x 6 = 48\t9 x 6 = 54\t\n",
      "1 x 7 = 7\t2 x 7 = 14\t3 x 7 = 21\t4 x 7 = 28\t5 x 7 = 35\t6 x 7 = 42\t7 x 7 = 49\t8 x 7 = 56\t9 x 7 = 63\t\n",
      "1 x 8 = 8\t2 x 8 = 16\t3 x 8 = 24\t4 x 8 = 32\t5 x 8 = 40\t6 x 8 = 48\t7 x 8 = 56\t8 x 8 = 64\t9 x 8 = 72\t\n",
      "1 x 9 = 9\t2 x 9 = 18\t3 x 9 = 27\t4 x 9 = 36\t5 x 9 = 45\t6 x 9 = 54\t7 x 9 = 63\t8 x 9 = 72\t9 x 9 = 81\t\n"
     ]
    }
   ],
   "source": [
    "# code lab 3 bài 4 ở đây\n",
    "#Viết chương trình xuất ra màn hình bảng cửu chương\n",
    "n = int(input(\"Nhập số cần in ra bang cửu chương: \"))\n",
    "#in ra 1 bảng cửu chương\n",
    "print(\"==========Bảng cửu chương %d ==========\" %n)\n",
    "for i in range(10):\n",
    "    print(\"%d x %d = %d\"% (n,i,n*i))\n",
    "    \n",
    "#in ra 9 bảng cửu chương\n",
    "print(\"==========Bảng cửu chương từ 1 đến 9 ==========\")\n",
    "for i in range(1,10):\n",
    "    for j in range(1,10):\n",
    "        print(\"%d x %d = %d\" %(j,i,i*j),end=\"\\t\")\n",
    "    print()"
   ]
  },
  {
   "cell_type": "markdown",
   "id": "e2b41d4a",
   "metadata": {},
   "source": [
    "## Lab 3 - Bài 5: bài tập làm thêm"
   ]
  },
  {
   "cell_type": "code",
   "execution_count": null,
   "id": "0e0172f7",
   "metadata": {},
   "outputs": [],
   "source": [
    "# code lab 3  bài làm thêm ở đây "
   ]
  }
 ],
 "metadata": {
  "kernelspec": {
   "display_name": "Python 3",
   "language": "python",
   "name": "python3"
  },
  "language_info": {
   "codemirror_mode": {
    "name": "ipython",
    "version": 3
   },
   "file_extension": ".py",
   "mimetype": "text/x-python",
   "name": "python",
   "nbconvert_exporter": "python",
   "pygments_lexer": "ipython3",
   "version": "3.13.7"
  }
 },
 "nbformat": 4,
 "nbformat_minor": 5
}
