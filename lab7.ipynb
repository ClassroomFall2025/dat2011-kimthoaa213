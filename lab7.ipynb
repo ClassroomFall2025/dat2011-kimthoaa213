{
 "cells": [
  {
   "cell_type": "markdown",
   "id": "fdeff819",
   "metadata": {},
   "source": [
    "# Sinh Viên thực hiện Lab 7 ở Đây"
   ]
  },
  {
   "cell_type": "markdown",
   "id": "acc5d7dc",
   "metadata": {},
   "source": [
    "## Lab 7 - Bài 1"
   ]
  },
  {
   "cell_type": "code",
   "execution_count": 1,
   "id": "001e0507",
   "metadata": {},
   "outputs": [
    {
     "name": "stdout",
     "output_type": "stream",
     "text": [
      "Tự nguyện\n",
      "Trương Quốc Khánh\n",
      "Nếu là chim, tôi sẽ là loài bồ câu trắng\n",
      "Nếu là hoa, tôi sẽ là một đóa hướng dương\n",
      "Nếu là mây, tôi sẽ là một vầng mây ấm\n",
      "Là người, tôi sẽ chết cho quê hương.\n",
      "\n",
      "Là chim, tôi sẽ cất cao đôi cánh mềm\n",
      "Từ nam ra ngoài bắc báo tin nối liền\n",
      "Là hoa, tôi nở tình yêu ban sớm\n",
      "Cùng muôn trái tim ngất ngây hoà bình.\n",
      "\n",
      "Là mây, theo làn gió tung bay khắp trời\n",
      "Nghìn xưa oai hùng đó tôi xin tiếp lời\n",
      "Là người, xin một lần khi nằm xuống\n",
      "Nhìn anh em đứng lên phất cao ngọn cờ.\n"
     ]
    }
   ],
   "source": [
    "# Code lab 7 bài 1 ở đây\n",
    "def docfile():\n",
    "    with open(\"DAT2011 - Lab 7 - Resource.txt\" ,\"r\",encoding=\"utf-8\") as f:\n",
    "        data = f.read()\n",
    "        print(data)\n",
    "docfile()\n",
    "\n"
   ]
  },
  {
   "cell_type": "code",
   "execution_count": 3,
   "id": "5867999f",
   "metadata": {},
   "outputs": [
    {
     "name": "stdout",
     "output_type": "stream",
     "text": [
      "Tự nguyện\n"
     ]
    }
   ],
   "source": [
    "def doc_sokitu():\n",
    "    n = int(input(\"Nhập số kí tự muốn lấy: \"))\n",
    "    with open(\"DAT2011 - Lab 7 - Resource.txt\" ,\"r\",encoding=\"utf-8\") as f:\n",
    "        data = f.read(n)\n",
    "        print(data)\n",
    "doc_sokitu()\n",
    "\n"
   ]
  },
  {
   "cell_type": "code",
   "execution_count": 5,
   "id": "68f0a534",
   "metadata": {},
   "outputs": [
    {
     "name": "stdout",
     "output_type": "stream",
     "text": [
      "Trương Quốc Khánh\n",
      "\n"
     ]
    }
   ],
   "source": [
    "def doc_tentg():\n",
    "    with open(\"DAT2011 - Lab 7 - Resource.txt\" ,\"r\",encoding=\"utf-8\") as f:\n",
    "       \n",
    "        data = f.readlines()\n",
    "        print(data[1])\n",
    "        \n",
    "doc_tentg()"
   ]
  },
  {
   "cell_type": "markdown",
   "id": "c0835310",
   "metadata": {},
   "source": [
    "## Lab 7 - Bài 2"
   ]
  },
  {
   "cell_type": "code",
   "execution_count": 7,
   "id": "fa9cb39f",
   "metadata": {},
   "outputs": [],
   "source": [
    "# Code lab 7  bài 2 ở đây\n",
    "with open(\"Lab7-Exercise2.txt\" ,\"w\",encoding=\"utf-8\") as f:\n",
    "    f.write(\"\"\"“… \n",
    "Nếu một mai tôi có bay lên trời \n",
    "Thì người ơi tôi đã sống rất thảnh thơi\n",
    "Nếu một mai tôi có đi qua đời \n",
    "Thì người ơi tôi đã sống rất tuyệt vời \n",
    "…” \n",
    "    \"\"\")"
   ]
  },
  {
   "cell_type": "markdown",
   "id": "0f2483fe",
   "metadata": {},
   "source": [
    "## Lab 7 - Bài 3"
   ]
  },
  {
   "cell_type": "code",
   "execution_count": null,
   "id": "7034990b",
   "metadata": {},
   "outputs": [
    {
     "name": "stdout",
     "output_type": "stream",
     "text": [
      "Nhập thông tin bài thơ 1\n",
      "Nhập thông tin bài thơ 2\n",
      "Chọn ghi tiếp tục(1) hoặc ghi mới(2)\n",
      "Đang ghi file...\n",
      "Ghi file thành công\n",
      "========================================================\n",
      "|      Tiêu đề        |     Tác giả     | Năm sáng tác |\n",
      "--------------------------------------------------------\n",
      "|      Con Ong        |      Khanh      |     2005     |\n",
      "|      Con Meo        |       meow      |     2006     |\n",
      "========================================================\n"
     ]
    }
   ],
   "source": [
    "# Code lab 7  bài 3 ở đây\n",
    "import os\n",
    "tap_tho = []\n",
    "\n",
    "class BaiTho:\n",
    "    def __init__(self,tieu_de=\"\",tac_gia= \"\",nam_stac=0):\n",
    "        self.tieu_de = tieu_de\n",
    "        self.tac_gia = tac_gia\n",
    "        self.nam_stac = nam_stac\n",
    "        \n",
    "    def nhap_thong_tin_baitho(self):\n",
    "        self.tieu_de = input(\"Nhập tiêu đề bài thơ: \")\n",
    "        self.tac_gia = input(\"Nhập tác giả: \")\n",
    "        self.nam_stac = int(input(\"Năm sáng tác: \"))\n",
    "        return self\n",
    "    \n",
    "    def xuat_thong_tin(self):\n",
    "        print(f\"|{self.tieu_de:^20} | {self.tac_gia:^15} | {self.nam_stac:^13}|\")\n",
    "    \n",
    "    def __str__(self):\n",
    "        return f\"{self.tieu_de}, {self.tac_gia}, {self.nam_stac}\"\n",
    "    \n",
    "def ghi_file(tap_tho):\n",
    "    if os.path.exists(\"taptholab7.csv\"): \n",
    "        print(\"Chọn ghi tiếp tục(1) hoặc ghi mới(2)\")\n",
    "        lua_chon = int(input(\"Hình thức ghi file: \"))\n",
    "        print(\"Đang ghi file...\")\n",
    "        if lua_chon==1:\n",
    "            with open(\"lab7/taptholab7.csv\",\"a\",encoding=\"utf-8\",errors= \"Lỗi\") as f:\n",
    "                for dong in tap_tho:\n",
    "                    f.write(str(dong)+\"\\n\")\n",
    "                print(\"Ghi file thành công\")\n",
    "                return\n",
    "            print(\"Ghi file không thành công\")\n",
    "                    # f.write(\"{},{},{}\".format(self.tieu_de,self.tac_gia,self.nam_stac))\n",
    "        else:\n",
    "            with open(\"lab7/taptholab7.csv\",\"w\",encoding=\"utf-8\",errors= \"Lỗi\") as f:\n",
    "                for dong in tap_tho:\n",
    "                    f.write(str(dong)+\"\\n\")\n",
    "                print(\"Ghi file thành công\")\n",
    "                return\n",
    "            print(\"Ghi file không thành công\")\n",
    "    \n",
    "def doc_file(tap_tho):\n",
    "    with open(\"lab7/taptholab7.csv\",\"r\",encoding=\"utf-8\",errors= \"Lỗi\") as f:\n",
    "        print(\"=\"*56)\n",
    "        print(f\"|{\"Tiêu đề\":^20} | {\"Tác giả\":^15} | {\"Năm sáng tác\":^13}|\")\n",
    "        print(\"-\"*56)\n",
    "        for dong in f:\n",
    "            tieu_de, tac_gia, nam_st = dong.strip().split(\",\")\n",
    "            tho = BaiTho(tieu_de,tac_gia,int(nam_st))\n",
    "            tho.xuat_thong_tin()\n",
    "            \n",
    "        print(\"=\"*56)\n",
    "            \n",
    "\n",
    "for i in range(2):\n",
    "    print(f\"Nhập thông tin bài thơ {i+1}\")\n",
    "    tho = BaiTho().nhap_thong_tin_baitho()\n",
    "    tap_tho.append(tho)\n",
    "   \n",
    "\n",
    "ghi_file(tap_tho)\n",
    "doc_file(tap_tho)"
   ]
  },
  {
   "cell_type": "markdown",
   "id": "d36ea3d3",
   "metadata": {},
   "source": [
    "## Lab 7 - Bài 4"
   ]
  },
  {
   "cell_type": "code",
   "execution_count": null,
   "id": "4c707ec1",
   "metadata": {},
   "outputs": [],
   "source": [
    "# code lab 7 bài 4 ở đây\n",
    "file=\"lab7/DAT2011 - Lab 7 - Resource.txt\"\n",
    "if os.path.exists(file):\n",
    "    f=open(file , \"r\", encoding=\"utf-8\")\n",
    "    lines=f.readlines()\n",
    "    new_file=open(\"lab7/BaiTho.xml\",\"w\",encoding=\"utf-8\")\n",
    "    new_file.write(\"<songs>\\n\")\n",
    "    new_file.write(\"    <song>\\n\")\n",
    "    new_file.write(f\"       <name> {lines[0].strip()} </name>\\n\")\n",
    "    new_file.write(f\"       <author> {lines[1].strip()} </author>\\n\")\n",
    "    for i in range(2, len(lines), 5):\n",
    "        new_file.write(\"        <section> \")\n",
    "        for j in range(4):\n",
    "            if i+j < len(lines):\n",
    "                line_number=i+j\n",
    "            new_file.write(f\"{lines[line_number].strip()} \")\n",
    "        new_file.write(\"       </section>\\n\")\n",
    "    new_file.write(\"    </song>\\n\")\n",
    "    new_file.write(\"</songs>\")\n",
    "    new_file.close() \n",
    "    f.close()\n",
    "else:\n",
    "    print(\"File không tồn tại\")"
   ]
  },
  {
   "cell_type": "markdown",
   "id": "e2b41d4a",
   "metadata": {},
   "source": [
    "## Lab 7 - Bài 5: bài tập làm thêm"
   ]
  },
  {
   "cell_type": "code",
   "execution_count": null,
   "id": "0e0172f7",
   "metadata": {},
   "outputs": [],
   "source": [
    "# code lab 7  bài làm thêm ở đây "
   ]
  }
 ],
 "metadata": {
  "kernelspec": {
   "display_name": "Python 3",
   "language": "python",
   "name": "python3"
  },
  "language_info": {
   "codemirror_mode": {
    "name": "ipython",
    "version": 3
   },
   "file_extension": ".py",
   "mimetype": "text/x-python",
   "name": "python",
   "nbconvert_exporter": "python",
   "pygments_lexer": "ipython3",
   "version": "3.13.7"
  }
 },
 "nbformat": 4,
 "nbformat_minor": 5
}
