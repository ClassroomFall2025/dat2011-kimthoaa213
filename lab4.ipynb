{
 "cells": [
  {
   "cell_type": "markdown",
   "id": "fdeff819",
   "metadata": {},
   "source": [
    "# Sinh Viên thực hiện Lab 4 ở Đây"
   ]
  },
  {
   "cell_type": "markdown",
   "id": "acc5d7dc",
   "metadata": {},
   "source": [
    "## Lab 1 - Bài 1"
   ]
  },
  {
   "cell_type": "code",
   "execution_count": null,
   "id": "001e0507",
   "metadata": {},
   "outputs": [],
   "source": [
    "# Code lab 4 bài 1 ở đây\n",
    "\"\"\"Viết một hàm để tính tiền nước sinh hoạt theo phương pháp lũy tiến. Tham số\n",
    "truyền vào hàm là số nước sử dụng trong tháng.\"\"\"\n",
    "#taoj tuple để lưu giá nước theo bậc\n",
    "gia_nuoc = (7500,8800,12000,24000)\n",
    "#nhap so nuoc su dung trong thang\n",
    "san_luong = float(input(\"Số nước sử dụng trong tháng: \"))\n",
    "\n",
    "def tinh_tien_nuoc(san_luong,gia_nuoc):\n",
    "    if san_luong<=10:\n",
    "        #bac 1\n",
    "        tong_tien = san_luong*gia_nuoc[0]\n",
    "    elif san_luong<=20:\n",
    "        #bac2\n",
    "        tong_tien= 10* gia_nuoc[0] + (san_luong-10) * gia_nuoc[1]\n",
    "    elif san_luong<=30:\n",
    "        #bac 3\n",
    "        tong_tien= 10* gia_nuoc[0] + 10 * gia_nuoc[1] + (san_luong-20) *gia_nuoc[2]\n",
    "    else:\n",
    "        #bac 4\n",
    "        tong_tien= 10* gia_nuoc[0] + 10 * gia_nuoc[1] + 10 *gia_nuoc[2] + (san_luong-30) * gia_nuoc[3]\n",
    "    return tong_tien\n",
    "#in ra ket qua\n",
    "tien_nuoc = tinh_tien_nuoc(san_luong,gia_nuoc)\n",
    "print(f\"Số nước sử dụng trong tháng:{san_luong} m^3\\nSố tiền cần phải trả:{tien_nuoc:,.0f} VNĐ\")\n",
    "    "
   ]
  },
  {
   "cell_type": "markdown",
   "id": "c0835310",
   "metadata": {},
   "source": [
    "## Lab 4 - Bài 2"
   ]
  },
  {
   "cell_type": "code",
   "execution_count": null,
   "id": "fa9cb39f",
   "metadata": {},
   "outputs": [],
   "source": [
    "# Code lab 4  bài 2 ở đây\n",
    "#tạo tuple để truyền đường và đậu của từng loại bán\n",
    "#     (đậu xanh,thập cẩm,bánh dẻo)\n",
    "\n",
    "#nhập số hộp bánh từng loại\n",
    "dau_xanh = int(input(\"Nhập số lượng bánh đậu xanh có trong hộp:\"))\n",
    "thap_cam = int(input(\"Nhập số lượng bánh thập cẩm có trong hộp:\"))\n",
    "banh_deo = int(input(\"Nhập số lượng bánh bánh dẻo có trong hộp:\"))\n",
    "\n",
    "#trả về dict với số lượng đg và đậu\n",
    "def tinh_duong(dau_xanh,thap_cam,banh_deo):\n",
    "    nguyenlieu_duong = (0.04,0.06,0.05) \n",
    "    sugar =dau_xanh*nguyenlieu_duong[0] +thap_cam* nguyenlieu_duong[1] + banh_deo* nguyenlieu_duong[2]\n",
    "    return sugar\n",
    "\n",
    "def tinh_dau(dau_xanh,thap_cam,banh_deo):\n",
    "    nguyenlieu_dau = (0.07,0,0.02)\n",
    "    bean =dau_xanh*nguyenlieu_dau   [0] +thap_cam* nguyenlieu_dau[1] + banh_deo* nguyenlieu_dau[2]\n",
    "    return bean\n",
    "#Gán biến\n",
    "sugar = tinh_duong(dau_xanh,thap_cam,banh_deo)\n",
    "bean = tinh_dau(dau_xanh,thap_cam,banh_deo)\n",
    "nguyen_lieu = {\n",
    "    \"Đường\" : round(sugar,2),\n",
    "    \"Đậu\" : round(bean,2)\n",
    "}\n",
    "#in ra\n",
    "def in_ra(dictionary):\n",
    "    print(f\"Số đường và đậu để làm {dau_xanh} bánh đậu xanh, {thap_cam} bánh thập cẩm và {banh_deo} bánh dẻo:\")\n",
    "    for keys,values in dictionary.items():\n",
    "        print(f\"{keys}: {values} kg\")\n",
    "in_ra(nguyen_lieu)"
   ]
  },
  {
   "cell_type": "markdown",
   "id": "0f2483fe",
   "metadata": {},
   "source": [
    "## Lab 4 - Bài 3"
   ]
  },
  {
   "cell_type": "code",
   "execution_count": null,
   "id": "7034990b",
   "metadata": {},
   "outputs": [],
   "source": [
    "# Code lab 4  bài 3 ở đây\n",
    "#Viết chương trình nhập vào một dãy số nguyên từ bàn phím. Sử dụng hàm lambda \n",
    "#để lọc ra các số chẵn từ dãy số. Xuất kết quả ra màn hình.\n",
    "numbers =[]\n",
    "while True:\n",
    "    num = input(\"Nhập vào các số nguyên: \") \n",
    "    if num.isdigit(): #kiểm tra nhập vào có phải số hay không\n",
    "        numbers.append(int(num))\n",
    "    else:\n",
    "        if num == \"s\" or num== \"S\":\n",
    "            break  \n",
    "        else:\n",
    "            print(\"Vui lòng nhập số nguyên hoặc 's' để dừng\")\n",
    "            continue\n",
    "        \n",
    "print(numbers)\n",
    "\n",
    "# print(number_list)\n",
    "so_chan = filter(lambda x: x% 2 ==0,numbers)\n",
    "print(list(so_chan))"
   ]
  },
  {
   "cell_type": "markdown",
   "id": "d36ea3d3",
   "metadata": {},
   "source": [
    "## Lab 4 - Bài 4"
   ]
  },
  {
   "cell_type": "code",
   "execution_count": null,
   "id": "4c707ec1",
   "metadata": {},
   "outputs": [],
   "source": [
    "# code lab 4 bài 4 ở đây\n",
    "\"\"\"Viết chương trình tổ chức 1 thực đơn (menu) gồm 3 chức năng để gọi 2 bài của \n",
    "Phần 1 và 1 chức năng để thoát khỏi ứng dụng.\"\"\"\n",
    "print(\"=======================================\")\n",
    "print(\"= 1. Tính tiên nước sinh hoạt         =\")\n",
    "print(\"= 2. Tính nguyên liệu làm bánh        =\")\n",
    "print(\"= 3. Kết thúc                         =\")\n",
    "print(\"=======================================\")\n",
    "\n",
    "while True:\n",
    "    try:\n",
    "        option = int(input(\"Chọn chức năng: \"))\n",
    "    except ValueError:\n",
    "        print(\"Hãy nhập 1 số từ 1 đến 3!\")\n",
    "        continue\n",
    "        \n",
    "    if option == 1:\n",
    "        print(\"==========================\")\n",
    "        print(\"Tính tiền nước sinh hoạt \")\n",
    "        import lab4_1\n",
    "        break\n",
    "    elif option == 2:\n",
    "        print(\"Tính nguyên liệu làm bánh\")\n",
    "        print(\"==========================\")\n",
    "        import lab4_2\n",
    "        break\n",
    "    elif option == 3:\n",
    "        print(\"==========================\")\n",
    "        print(\"Kết thúc\")\n",
    "        print(\"Cảm ơn nheee, pp\")\n",
    "        break\n",
    "    else :\n",
    "        print(\"Hãy nhập 1 số từ 1 đến 3!\")\n",
    "        continue "
   ]
  },
  {
   "cell_type": "markdown",
   "id": "e2b41d4a",
   "metadata": {},
   "source": [
    "## Lab 4 - Bài 5: bài tập làm thêm"
   ]
  },
  {
   "cell_type": "code",
   "execution_count": null,
   "id": "0e0172f7",
   "metadata": {},
   "outputs": [],
   "source": [
    "# code lab 4  bài làm thêm ở đây "
   ]
  }
 ],
 "metadata": {
  "kernelspec": {
   "display_name": "Python 3",
   "language": "python",
   "name": "python3"
  },
  "language_info": {
   "name": "python",
   "version": "3.13.2"
  }
 },
 "nbformat": 4,
 "nbformat_minor": 5
}
