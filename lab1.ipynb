{
 "cells": [
  {
   "cell_type": "markdown",
   "id": "fdeff819",
   "metadata": {},
   "source": [
    "# Sinh Viên thực hiện Lab 1 ở Đây"
   ]
  },
  {
   "cell_type": "markdown",
   "id": "acc5d7dc",
   "metadata": {},
   "source": [
    "## Lab 1 - Bài 1"
   ]
  },
  {
   "cell_type": "code",
   "execution_count": 1,
   "id": "001e0507",
   "metadata": {},
   "outputs": [
    {
     "name": "stdout",
     "output_type": "stream",
     "text": [
      "Hello!\n",
      "My name is Kim Thoa\n",
      "I'm from Binh Thuan\n"
     ]
    }
   ],
   "source": [
    "# Code lab 1 bài 1 ở đây\n",
    "print(\"Hello!\")\n",
    "print(\"My name is Kim Thoa\")\n",
    "print(\"I'm from Binh Thuan\")"
   ]
  },
  {
   "cell_type": "markdown",
   "id": "c0835310",
   "metadata": {},
   "source": [
    "## Lab 1 - Bài 2"
   ]
  },
  {
   "cell_type": "code",
   "execution_count": 2,
   "id": "fa9cb39f",
   "metadata": {},
   "outputs": [
    {
     "name": "stdout",
     "output_type": "stream",
     "text": [
      "Chu vi hình chữ nhật là: 32.0 cm\n",
      "Chu vi hình chữ nhật là: 48.0 cm\n"
     ]
    }
   ],
   "source": [
    "# Code lab 1  bài 2 ở đây\n",
    "#Nhập chiều dài, chiều rộng\n",
    "chieu_dai = float(input(\"Nhập chiều dài hình chữ nhật(cm): \"))\n",
    "chieu_rong = float(input(\"Nhập chiều rộng hình chữ nhật(cm): \"))\n",
    "#Tính chu vi, diện tích\n",
    "chu_vi = (chieu_dai+chieu_rong)*2\n",
    "dien_tich = chieu_dai*chieu_rong\n",
    "#in ra màn hình\n",
    "print(f\"Chu vi hình chữ nhật là: {chu_vi} cm\")\n",
    "print(f\"Chu vi hình chữ nhật là: {dien_tich} cm\")"
   ]
  },
  {
   "cell_type": "markdown",
   "id": "0f2483fe",
   "metadata": {},
   "source": [
    "## Lab 1 - Bài 3"
   ]
  },
  {
   "cell_type": "code",
   "execution_count": 3,
   "id": "7034990b",
   "metadata": {},
   "outputs": [
    {
     "name": "stdout",
     "output_type": "stream",
     "text": [
      "\n",
      "      \"...\n",
      "      Sống không giận, không hờn, không oán trách\n",
      "      Sống mỉm cười, với thử thách chông gai\n",
      "      Sống vươn lên, theo kịp ánh nắng ma\n",
      "      Sống chan hòa với những người chung sống\n",
      "\n",
      "      Sống là động nhưng lòng luôn bất động\n",
      "      Sống là thương, nhưng lòng chẳng vấn vương\n",
      "      Sống yên vui, danh lợi mãi coi thường\n",
      "      Tâm bất biến, giữa dòng đời vạn biến.\n",
      "      ...\"\n"
     ]
    }
   ],
   "source": [
    "# Code lab 1  bài 3 ở đây\n",
    "life = \"Sống\"\n",
    "print(f\"\"\"\n",
    "      \\\"...\n",
    "      {life} không giận, không hờn, không oán trách\n",
    "      {life} mỉm cười, với thử thách chông gai\n",
    "      {life} vươn lên, theo kịp ánh nắng ma\n",
    "      {life} chan hòa với những người chung sống\\n\n",
    "      {life} là động nhưng lòng luôn bất động\n",
    "      {life} là thương, nhưng lòng chẳng vấn vương\n",
    "      {life} yên vui, danh lợi mãi coi thường\n",
    "      Tâm bất biến, giữa dòng đời vạn biến.\n",
    "      ...\\\"\"\"\" )\n",
    "\n"
   ]
  },
  {
   "cell_type": "markdown",
   "id": "d36ea3d3",
   "metadata": {},
   "source": [
    "## Lab 1 - Bài 4"
   ]
  },
  {
   "cell_type": "code",
   "execution_count": 9,
   "id": "4c707ec1",
   "metadata": {},
   "outputs": [
    {
     "name": "stdout",
     "output_type": "stream",
     "text": [
      "phương trình bậc 2 1x^2 + 2x + 3 = 0 có delta là: 2.828\n"
     ]
    }
   ],
   "source": [
    "import math as m\n",
    "# code lab 1 bài 4 ở đây\n",
    "#Nhập hệ số a, b, c\n",
    "heso_a = int(input('Nhập hệ số a: '))\n",
    "heso_b = int(input('Nhập hệ số b: '))\n",
    "heso_c = int(input('Nhập hệ số c: '))\n",
    "#Tính delta\n",
    "delta = heso_b * heso_b - 4 * heso_a * heso_c\n",
    "sqrt_delta = m.sqrt(abs(delta))\n",
    " #In ra màn hình\n",
    "print(f\"phương trình bậc 2 {heso_a}x^2 + {heso_b}x + {heso_c} = 0 có delta là: {sqrt_delta:.3f}\")"
   ]
  },
  {
   "cell_type": "markdown",
   "id": "e2b41d4a",
   "metadata": {},
   "source": [
    "## Lab 1 - Bài 5: bài tập làm thêm"
   ]
  },
  {
   "cell_type": "code",
   "execution_count": 16,
   "id": "0e0172f7",
   "metadata": {},
   "outputs": [
    {
     "name": "stdout",
     "output_type": "stream",
     "text": [
      "Tổng: 7.0\n",
      "Hiệu: -1.0\n",
      "Tích: 12.0\n",
      "Thương: 0.75\n",
      "Logarit: 0.792\n",
      "Lũy thừa: 81.0\n",
      "Căn bậc 2: 1.732\n",
      "Sin: 0.141\n",
      "Cos: -0.990\n",
      "Tan: -0.143\n"
     ]
    }
   ],
   "source": [
    "# code lab 1  bài làm thêm ở đây \n",
    "#Nhập vào 2 số tính tổng hiệu tích thương, logarit, lũy thừa, căn bậc 2, hàm lượng giác(sin, cos, tan)\n",
    "so_1 = float(input(\"Nhập số thứ nhất: \"))\n",
    "so_2 = float(input(\"Nhập số thứ hai: \"))\n",
    "tong = so_1 + so_2\n",
    "hieu = so_1 - so_2\n",
    "tich = so_1 * so_2\n",
    "thuong = so_1 / so_2\n",
    "luythua = m.pow(so_1, so_2)\n",
    "can_bac2 = m.sqrt(abs(so_1))\n",
    "sin = m.sin(so_1)\n",
    "cos = m.cos(so_1)\n",
    "tan = m.tan(so_1)\n",
    "logarit = m.log(so_1, so_2)\n",
    "print(f\"Tổng: {tong}\\nHiệu: {hieu}\\nTích: {tich}\\nThương: {thuong}\\nLogarit: {logarit:.3f}\\nLũy thừa: {luythua}\\nCăn bậc 2: {can_bac2:.3f}\\nSin: {sin:.3f}\\nCos: {cos:.3f}\\nTan: {tan:.3f}\")\n"
   ]
  }
 ],
 "metadata": {
  "kernelspec": {
   "display_name": "Python 3",
   "language": "python",
   "name": "python3"
  },
  "language_info": {
   "codemirror_mode": {
    "name": "ipython",
    "version": 3
   },
   "file_extension": ".py",
   "mimetype": "text/x-python",
   "name": "python",
   "nbconvert_exporter": "python",
   "pygments_lexer": "ipython3",
   "version": "3.13.7"
  }
 },
 "nbformat": 4,
 "nbformat_minor": 5
}
