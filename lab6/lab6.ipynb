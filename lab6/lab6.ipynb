{
 "cells": [
  {
   "cell_type": "markdown",
   "id": "fdeff819",
   "metadata": {},
   "source": [
    "# Sinh Viên thực hiện Lab 6 ở Đây"
   ]
  },
  {
   "cell_type": "markdown",
   "id": "acc5d7dc",
   "metadata": {},
   "source": [
    "## Lab 6 - Bài 1"
   ]
  },
  {
   "cell_type": "code",
   "execution_count": null,
   "id": "001e0507",
   "metadata": {},
   "outputs": [
    {
     "name": "stdout",
     "output_type": "stream",
     "text": [
      "Hình chữ nhật\n",
      "Chiều dài: 5cm\n",
      "Chiều rộng:4cm\n",
      "Chu vi: 18cm\n",
      "Diện tích: 20cm\n",
      "Hình vuông\n",
      "Cạnh: 5cm\n",
      "Chu vi: 20cm\n",
      "Diện tích: 25cm\n"
     ]
    }
   ],
   "source": [
    "# Code lab 6 bài 1 ở đây\n",
    "class ChuNhat:\n",
    "    def __init__(self,chieu_rong, chieu_dai):\n",
    "        self.chieu_rong =chieu_rong\n",
    "        self.chieu_dai = chieu_dai\n",
    "        # Chữ nhật và hình vuông lấy chung chu vi và diện tích vì (canh + canh)*2 = canh*4\n",
    "    def get_chu_vi(self):\n",
    "        chuvi = (self.chieu_dai + self.chieu_rong) *2\n",
    "        self.chuvi = chuvi\n",
    "        return chuvi\n",
    "    \n",
    "    def get_dien_tich(self):\n",
    "        dientich= self.chieu_dai * self.chieu_rong\n",
    "        self.dientich = dientich\n",
    "        return dientich\n",
    "    \n",
    "    def xuatthongtin(self):\n",
    "        print(f\"Chiều dài: {self.chieu_dai}cm\\nChiều rộng:{self.chieu_rong}cm\\nChu vi: {self.get_chu_vi()}cm\\nDiện tích: {self.get_dien_tich()}cm\")\n",
    "        \n",
    "class Vuong(ChuNhat):\n",
    "    def __init__(self,canh):\n",
    "        super().__init__(canh,canh) # gọi lại hàm và đổi giá trị \n",
    "        \n",
    "    def get_chu_vi(self):\n",
    "        return super().get_chu_vi()\n",
    "    \n",
    "    def get_dien_tich(self):\n",
    "        return super().get_dien_tich()\n",
    "    \n",
    "    def xuatthongtin(self):\n",
    "        print(f\"Cạnh: {self.chieu_dai}cm\\nChu vi: {self.get_chu_vi()}cm\\nDiện tích: {self.get_dien_tich()}cm\")\n",
    "        \n",
    "print(\"Hình chữ nhật\")\n",
    "cn1 = ChuNhat(4,5)\n",
    "cn1.xuatthongtin()\n",
    "print(\"Hình vuông\")\n",
    "v1 = Vuong(5)\n",
    "v1.xuatthongtin() "
   ]
  },
  {
   "cell_type": "markdown",
   "id": "c0835310",
   "metadata": {},
   "source": [
    "## Lab 6 - Bài 2"
   ]
  },
  {
   "cell_type": "code",
   "execution_count": 12,
   "id": "fa9cb39f",
   "metadata": {},
   "outputs": [],
   "source": [
    "# Code lab 6  bài 2 ở đây\n",
    "class SinhVienPoly:\n",
    "    def __init__(self,ho_va_ten,nganh):\n",
    "        self.ho_va_ten = ho_va_ten\n",
    "        self.nganh = nganh\n",
    "        \n",
    "    def get_diem(self):\n",
    "        pass\n",
    "    \n",
    "    def get_hocluc(self):\n",
    "        if 0 > self.get_diem() < 5:\n",
    "            self.hoc_luc = \"Yếu\"\n",
    "        elif self.get_diem() < 7:\n",
    "            self.hoc_luc = \"Khá\"\n",
    "        elif self.get_diem() < 8:\n",
    "            self.hoc_luc = \"Gioi\"\n",
    "        elif self.get_diem() <= 10:\n",
    "            self.hoc_luc = \"Xuất sắc\"\n",
    "        return self.hoc_luc\n",
    "    \n",
    "    def xuat_thong_tin(self):\n",
    "        print(\"==================\")\n",
    "        print(f\"Họ tên: {self.ho_va_ten}\\nNgành: {self.nganh}\\nĐiểm: {self.get_diem():.1f}\\nHọc lực: {self.get_hocluc()}\")\n",
    "        \n"
   ]
  },
  {
   "cell_type": "markdown",
   "id": "0f2483fe",
   "metadata": {},
   "source": [
    "## Lab 6 - Bài 3"
   ]
  },
  {
   "cell_type": "code",
   "execution_count": 13,
   "id": "7034990b",
   "metadata": {},
   "outputs": [
    {
     "name": "stdout",
     "output_type": "stream",
     "text": [
      "==================\n",
      "Họ tên: Hope\n",
      "Ngành: IT\n",
      "Điểm: 9.2\n",
      "Học lực: Xuất sắc\n",
      "==================\n",
      "Họ tên: Thoa\n",
      "Ngành: Marketting\n",
      "Điểm: 9.7\n",
      "Học lực: Xuất sắc\n"
     ]
    }
   ],
   "source": [
    "# Code lab 6  bài 3 ở đây\n",
    "class SinhVienIT(SinhVienPoly):\n",
    "    def __init__(self, ho_va_ten, nganh, diem_java, diem_html,diem_css):\n",
    "        super().__init__(ho_va_ten, nganh)\n",
    "        self.diem_java = diem_java\n",
    "        self.diem_html = diem_html\n",
    "        self.diem_css = diem_css\n",
    "    def get_diem(self):\n",
    "        __diem = (2 * self.diem_java + self.diem_html + self.diem_css)/4\n",
    "        return __diem\n",
    "    \n",
    "class SinhVienBiz(SinhVienPoly):\n",
    "    def __init__(self, ho_va_ten, nganh, diem_marketing, diem_sales):\n",
    "        super().__init__(ho_va_ten, nganh)\n",
    "        self.marketing = diem_marketing\n",
    "        self.diem_sales = diem_sales\n",
    "    def get_diem(self):\n",
    "        __diem = (2 * self.marketing + self.diem_sales) / 3\n",
    "        return __diem\n",
    "    \n",
    "# lst_sv = []\n",
    "sv1 = SinhVienIT(\"Hope\" ,\"IT\" ,9 ,10 ,9)\n",
    "sv2 = SinhVienBiz(\"Thoa\" , \"Marketting\", 10, 9)\n",
    "\n",
    "sv1.xuat_thong_tin()\n",
    "sv2.xuat_thong_tin()\n",
    "\n"
   ]
  },
  {
   "cell_type": "markdown",
   "id": "d36ea3d3",
   "metadata": {},
   "source": [
    "## Lab 6 - Bài 4"
   ]
  },
  {
   "cell_type": "code",
   "execution_count": 17,
   "id": "3e093565",
   "metadata": {},
   "outputs": [
    {
     "name": "stdout",
     "output_type": "stream",
     "text": [
      "Kết thúc\n"
     ]
    }
   ],
   "source": [
    "# code lab 6 bài 4 ở đây\n",
    "from lab6 import *\n",
    "menu()\n",
    "while True: \n",
    "    while True:\n",
    "        try:\n",
    "            choice = int(input(\"Nhập lựa chọn trong menu ( từ 1 -5 ): \"))\n",
    "            break\n",
    "        except ValueError:\n",
    "            print(\"Lỗi: Lựa chọn không hợp lệ\")\n",
    "            if choice <6:\n",
    "                break\n",
    "            else:\n",
    "                print(\"Nhập lựa chọn từ 1 - 5: \")\n",
    "    match choice:\n",
    "        case 1:\n",
    "            nhapds_sinhvien()\n",
    "        case 2:\n",
    "            xuatds_sinhvien()\n",
    "        case 3:\n",
    "            ds_svgioi()\n",
    "        case 4:\n",
    "            sapxepsv_diem()\n",
    "        case 5:\n",
    "            print(\"Kết thúc\")\n",
    "            break\n",
    "        \n",
    "            \n",
    "        "
   ]
  },
  {
   "cell_type": "markdown",
   "id": "e2b41d4a",
   "metadata": {},
   "source": [
    "## Lab 6 - Bài 5: bài tập làm thêm"
   ]
  },
  {
   "cell_type": "code",
   "execution_count": null,
   "id": "0e0172f7",
   "metadata": {},
   "outputs": [],
   "source": [
    "# code lab 6  bài làm thêm ở đây "
   ]
  }
 ],
 "metadata": {
  "kernelspec": {
   "display_name": "base",
   "language": "python",
   "name": "python3"
  },
  "language_info": {
   "codemirror_mode": {
    "name": "ipython",
    "version": 3
   },
   "file_extension": ".py",
   "mimetype": "text/x-python",
   "name": "python",
   "nbconvert_exporter": "python",
   "pygments_lexer": "ipython3",
   "version": "3.12.7"
  }
 },
 "nbformat": 4,
 "nbformat_minor": 5
}
