{
 "cells": [
  {
   "cell_type": "markdown",
   "id": "fdeff819",
   "metadata": {},
   "source": [
    "# Sinh Viên thực hiện Lab 8 ở Đây"
   ]
  },
  {
   "cell_type": "markdown",
   "id": "acc5d7dc",
   "metadata": {},
   "source": [
    "## Lab 8 - Bài 1"
   ]
  },
  {
   "cell_type": "code",
   "execution_count": 7,
   "id": "001e0507",
   "metadata": {},
   "outputs": [
    {
     "name": "stdout",
     "output_type": "stream",
     "text": [
      "['Ngô', 'Thoa']\n",
      "Họ : NGÔ\n",
      "Tên đệm : \n",
      "Tên : THOA\n"
     ]
    }
   ],
   "source": [
    "# Code lab 8 bài 1 ở đây\n",
    "\"\"\"Bài 1 (1 điểm) \n",
    "Nhập họ và tên từ bàn phím. Xuất tên, họ và tên đệm ra màn hình trong đó tên và \n",
    "họ xuất IN HOA.\"\"\"\n",
    "import re\n",
    "pattern = r'\\s'\n",
    "ho_va_ten = input(\"Nhập họ và tên\")\n",
    "chuoi = re.split(pattern,ho_va_ten)\n",
    "print(chuoi)\n",
    "print(f\"Họ : {chuoi[0].upper()}\")\n",
    "print(f\"Tên đệm : {\" \".join(chuoi[1:-1])}\")\n",
    "print(f\"Tên : {chuoi[len(chuoi) - 1].upper()}\")\n"
   ]
  },
  {
   "cell_type": "markdown",
   "id": "c0835310",
   "metadata": {},
   "source": [
    "## Lab 8 - Bài 2"
   ]
  },
  {
   "cell_type": "code",
   "execution_count": null,
   "id": "fa9cb39f",
   "metadata": {},
   "outputs": [
    {
     "name": "stdout",
     "output_type": "stream",
     "text": [
      "SDT không hợp lệ, vui lòng nhập lại\n",
      "Thông tin sinh viên:\n",
      "Họ và tên : Ngô Đình Kim Thoa \n",
      "Email : kimthoa02_205@gmail.com \n",
      "Số điện thoại : 0359.069.223 \n",
      "CMND : 1234567890 \n"
     ]
    }
   ],
   "source": [
    "# Code lab 8  bài 2 ở đây\n",
    "\"\"\"Nhập thông tin của một sinh viên, bao gồm họ tên, email, số điện thoại, chứng \n",
    "minh nhân dân. Kiểm tra và thông báo lỗi nếu nhập không đúng định dạng email, \n",
    "số điện thoại và CMND. \"\"\"\n",
    "import re\n",
    "sinhvien = {\n",
    "    \"Họ và tên\" : \"\",\n",
    "    \"Email\" : \"\",\n",
    "    \"Số điện thoại\" : \"\",\n",
    "    \"CMND\" : \"\"  \n",
    "}\n",
    "\n",
    "sinhvien[\"Họ và tên\"]=input(\"Nhập họ và tên sinh viên:\")\n",
    "\n",
    "pattern_sDT=r\"^0[1-9]{1}[0-9]{8}$\"\n",
    "while True:\n",
    "    sinhvien[\"Số điện thoại\"]=input(\"Nhập số điện thoại (định dạng 0XXX.XXX.XXX) : \")\n",
    "    if re.search(pattern_sDT,sinhvien[\"Số điện thoại\"]):\n",
    "        break\n",
    "    else:\n",
    "        print(\"SDT không hợp lệ, vui lòng nhập lại\")\n",
    "\n",
    "pattern_email=r\"[a-zA-Z0-9_\\.]+@[a-zA-Z0-9]+\\.[a-zA-Z0-9]{2,}$\"\n",
    "while True:\n",
    "    sinhvien[\"Email\"]=input(\"Nhập email (Định dạng : ___@___.__) : \")\n",
    "    if re.search(pattern_email,sinhvien[\"Email\"]):\n",
    "        break\n",
    "    else:\n",
    "        print(\"Email chưa đúng định dạng, vui lòng nhập lại\")\n",
    "        \n",
    "pattern_cmnd=r\"^(00[1-9]|0[1-8][0-9]|09[0-6])[0-9][0-9]{2}[0-9]{6}$\"\n",
    "while True:\n",
    "    sinhvien[\"CMND\"]=input(\"Nhập CMND (Định dạng : 9 số) : \")\n",
    "    if re.search(pattern_cmnd,sinhvien[\"CMND\"]):\n",
    "        break\n",
    "    else:\n",
    "        print(\"CMND chưa đúng định dạng, vui lòng nhập lại\")\n",
    "\n",
    "print(\"Thông tin sinh viên:\")\n",
    "for key,value in sinhvien.items():\n",
    "    print(f\"{key} : {value} \")"
   ]
  },
  {
   "cell_type": "markdown",
   "id": "0f2483fe",
   "metadata": {},
   "source": [
    "## Lab 8 - Bài 3"
   ]
  },
  {
   "cell_type": "code",
   "execution_count": 9,
   "id": "7034990b",
   "metadata": {},
   "outputs": [],
   "source": [
    "# Code lab 8  bài 3 ở đây\n",
    "\"\"\"Bài 3 (2 điểm) \n",
    "Viết chương trình để tạo ra 1 triệu số nguyên ngẫu nhiên có giá trị trong khoảng \n",
    "từ 0 đến 100. Ghi kết quả ra file. \"\"\"\n",
    "import random as r\n",
    "with open(\"songaunhien1tr.txt\",\"w\",encoding=\"utf-8\") as f:\n",
    "    for i in range(100):\n",
    "        n = r.randint(0,100)\n",
    "        if i > 0:\n",
    "            f.write(\" \")\n",
    "        f.write(str(n))\n",
    "               "
   ]
  },
  {
   "cell_type": "markdown",
   "id": "d36ea3d3",
   "metadata": {},
   "source": [
    "## Lab 8 - Bài 4"
   ]
  },
  {
   "cell_type": "code",
   "execution_count": 10,
   "id": "4c707ec1",
   "metadata": {},
   "outputs": [
    {
     "name": "stdout",
     "output_type": "stream",
     "text": [
      "Trung bình của tập dữ liệu: 49.31\n",
      "Độ lệch chuẩn: 29.75355272904397\n",
      "Trung vị: 48.0\n",
      "Mode: 90\n"
     ]
    }
   ],
   "source": [
    "# code lab 8 bài 4 ở đây\n",
    "\"\"\"Bài 4 (2 điểm) \n",
    "Đọc file dữ liệu được tạo trong bài 3. Sử dụng thư viện statistics để tính các giá trị \n",
    "sau: \n",
    "✓ Trung bình của bộ dữ liệu (mean hay average) \n",
    "✓ Tính toán độ lệch chuẩn (standard deviation) \"\"\"\n",
    "import statistics as stats\n",
    "\n",
    "with open(\"songaunhien1tr.txt\",\"r\",encoding=\"utf-8\") as f:\n",
    "    file =[int(x) for x in f.read().split()] \n",
    "    \n",
    "avg = stats.mean(file)\n",
    "stdev = stats.pstdev(file)\n",
    "median = stats.median(file)\n",
    "mode = stats.mode(file)\n",
    "\n",
    "print(f\"Trung bình của tập dữ liệu: {avg}\\nĐộ lệch chuẩn: {stdev}\\nTrung vị: {median}\\nMode: {mode}\")\n"
   ]
  },
  {
   "cell_type": "markdown",
   "id": "e2b41d4a",
   "metadata": {},
   "source": [
    "## Lab 8 - Bài 5: bài tập làm thêm"
   ]
  },
  {
   "cell_type": "code",
   "execution_count": null,
   "id": "0e0172f7",
   "metadata": {},
   "outputs": [],
   "source": [
    "# code lab 8  bài làm thêm ở đây "
   ]
  }
 ],
 "metadata": {
  "kernelspec": {
   "display_name": "Python 3",
   "language": "python",
   "name": "python3"
  },
  "language_info": {
   "codemirror_mode": {
    "name": "ipython",
    "version": 3
   },
   "file_extension": ".py",
   "mimetype": "text/x-python",
   "name": "python",
   "nbconvert_exporter": "python",
   "pygments_lexer": "ipython3",
   "version": "3.13.7"
  }
 },
 "nbformat": 4,
 "nbformat_minor": 5
}
